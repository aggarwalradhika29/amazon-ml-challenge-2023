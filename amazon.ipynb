{
  "cells": [
    {
      "cell_type": "code",
      "execution_count": null,
      "metadata": {
        "id": "vzFiTpkMywRD"
      },
      "outputs": [],
      "source": [
        "import numpy as np\n",
        "import pandas as pd\n",
        "import matplotlib.pyplot as plt\n",
        "import seaborn as sns\n",
        "\n",
        "from keras.utils import pad_sequences\n",
        "import nltk\n",
        "import re\n",
        "nltk.download('stopwords')\n",
        "import nltk.tokenize as token\n",
        "from nltk.tokenize import WhitespaceTokenizer, WordPunctTokenizer, TreebankWordTokenizer, TreebankWordDetokenizer\n",
        "from nltk.corpus import stopwords\n",
        "from nltk.stem.porter import PorterStemmer\n",
        "from nltk.stem import WordNetLemmatizer \n",
        "stop_words = set(stopwords.words('english'))\n",
        "from nltk.util import everygrams, pad_sequence\n",
        "import string"
      ]
    },
    {
      "cell_type": "code",
      "execution_count": null,
      "metadata": {
        "id": "I_2-wiyoywRG"
      },
      "outputs": [],
      "source": [
        "df = pd.read_csv('train.csv')"
      ]
    },
    {
      "cell_type": "code",
      "execution_count": null,
      "metadata": {
        "id": "mSUyCOQ7ywRG",
        "outputId": "0b03bda0-f5db-433f-9fe4-7cc9f26d5920"
      },
      "outputs": [
        {
          "data": {
            "text/html": [
              "<div>\n",
              "<style scoped>\n",
              "    .dataframe tbody tr th:only-of-type {\n",
              "        vertical-align: middle;\n",
              "    }\n",
              "\n",
              "    .dataframe tbody tr th {\n",
              "        vertical-align: top;\n",
              "    }\n",
              "\n",
              "    .dataframe thead th {\n",
              "        text-align: right;\n",
              "    }\n",
              "</style>\n",
              "<table border=\"1\" class=\"dataframe\">\n",
              "  <thead>\n",
              "    <tr style=\"text-align: right;\">\n",
              "      <th></th>\n",
              "      <th>PRODUCT_ID</th>\n",
              "      <th>TITLE</th>\n",
              "      <th>BULLET_POINTS</th>\n",
              "      <th>DESCRIPTION</th>\n",
              "      <th>PRODUCT_TYPE_ID</th>\n",
              "      <th>PRODUCT_LENGTH</th>\n",
              "    </tr>\n",
              "  </thead>\n",
              "  <tbody>\n",
              "    <tr>\n",
              "      <th>0</th>\n",
              "      <td>1925202</td>\n",
              "      <td>ArtzFolio Tulip Flowers Blackout Curtain for D...</td>\n",
              "      <td>[LUXURIOUS &amp; APPEALING: Beautiful custom-made ...</td>\n",
              "      <td>NaN</td>\n",
              "      <td>1650</td>\n",
              "      <td>2125.980000</td>\n",
              "    </tr>\n",
              "    <tr>\n",
              "      <th>1</th>\n",
              "      <td>2673191</td>\n",
              "      <td>Marks &amp; Spencer Girls' Pyjama Sets T86_2561C_N...</td>\n",
              "      <td>[Harry Potter Hedwig Pyjamas (6-16 Yrs),100% c...</td>\n",
              "      <td>NaN</td>\n",
              "      <td>2755</td>\n",
              "      <td>393.700000</td>\n",
              "    </tr>\n",
              "    <tr>\n",
              "      <th>2</th>\n",
              "      <td>2765088</td>\n",
              "      <td>PRIKNIK Horn Red Electric Air Horn Compressor ...</td>\n",
              "      <td>[Loud Dual Tone Trumpet Horn, Compatible With ...</td>\n",
              "      <td>Specifications: Color: Red, Material: Aluminiu...</td>\n",
              "      <td>7537</td>\n",
              "      <td>748.031495</td>\n",
              "    </tr>\n",
              "    <tr>\n",
              "      <th>3</th>\n",
              "      <td>1594019</td>\n",
              "      <td>ALISHAH Women's Cotton Ankle Length Leggings C...</td>\n",
              "      <td>[Made By 95%cotton and 5% Lycra which gives yo...</td>\n",
              "      <td>AISHAH Women's Lycra Cotton Ankel Leggings. Br...</td>\n",
              "      <td>2996</td>\n",
              "      <td>787.401574</td>\n",
              "    </tr>\n",
              "    <tr>\n",
              "      <th>4</th>\n",
              "      <td>283658</td>\n",
              "      <td>The United Empire Loyalists: A Chronicle of th...</td>\n",
              "      <td>NaN</td>\n",
              "      <td>NaN</td>\n",
              "      <td>6112</td>\n",
              "      <td>598.424000</td>\n",
              "    </tr>\n",
              "    <tr>\n",
              "      <th>...</th>\n",
              "      <td>...</td>\n",
              "      <td>...</td>\n",
              "      <td>...</td>\n",
              "      <td>...</td>\n",
              "      <td>...</td>\n",
              "      <td>...</td>\n",
              "    </tr>\n",
              "    <tr>\n",
              "      <th>2249693</th>\n",
              "      <td>2422167</td>\n",
              "      <td>Nike Women's As W Ny Df Swsh Hn Kh Bra (CZ7610...</td>\n",
              "      <td>Material : Polyester</td>\n",
              "      <td>NaN</td>\n",
              "      <td>3009</td>\n",
              "      <td>1181.100000</td>\n",
              "    </tr>\n",
              "    <tr>\n",
              "      <th>2249694</th>\n",
              "      <td>2766635</td>\n",
              "      <td>(3PCS) Goose Game Cute Cartoon Enamel Pins, Fu...</td>\n",
              "      <td>[❤ [Inspiration] Inspired by the Untitled Goos...</td>\n",
              "      <td>&lt;p&gt;&lt;b&gt;[Brand]: &lt;/b&gt;XVIEONR&lt;/p&gt; &lt;p&gt;&lt;br&gt;&lt;/p&gt; &lt;p&gt;...</td>\n",
              "      <td>3413</td>\n",
              "      <td>125.984252</td>\n",
              "    </tr>\n",
              "    <tr>\n",
              "      <th>2249695</th>\n",
              "      <td>1987786</td>\n",
              "      <td>Kangroo Sweep Movement Printed Wooden Wall Clo...</td>\n",
              "      <td>[Dial size: 12 inches in diameter,Big, clear r...</td>\n",
              "      <td>Wall Clocks Are Very Attractive In Looks And E...</td>\n",
              "      <td>1574</td>\n",
              "      <td>1200.000000</td>\n",
              "    </tr>\n",
              "    <tr>\n",
              "      <th>2249696</th>\n",
              "      <td>1165754</td>\n",
              "      <td>Electro Voice EKX-BRKT15 | Wall Mount Bracket ...</td>\n",
              "      <td>NaN</td>\n",
              "      <td>NaN</td>\n",
              "      <td>592</td>\n",
              "      <td>2900.000000</td>\n",
              "    </tr>\n",
              "    <tr>\n",
              "      <th>2249697</th>\n",
              "      <td>1072666</td>\n",
              "      <td>Skyjacker C7360SP Component Box For PN[C7360PK...</td>\n",
              "      <td>[Component Box For PN[C7360PK],4 in. Lift,Incl...</td>\n",
              "      <td>Skyjacker C7360SP Component Box For PN[C7360PK...</td>\n",
              "      <td>7367</td>\n",
              "      <td>2000.000000</td>\n",
              "    </tr>\n",
              "  </tbody>\n",
              "</table>\n",
              "<p>2249698 rows × 6 columns</p>\n",
              "</div>"
            ],
            "text/plain": [
              "         PRODUCT_ID                                              TITLE  \\\n",
              "0           1925202  ArtzFolio Tulip Flowers Blackout Curtain for D...   \n",
              "1           2673191  Marks & Spencer Girls' Pyjama Sets T86_2561C_N...   \n",
              "2           2765088  PRIKNIK Horn Red Electric Air Horn Compressor ...   \n",
              "3           1594019  ALISHAH Women's Cotton Ankle Length Leggings C...   \n",
              "4            283658  The United Empire Loyalists: A Chronicle of th...   \n",
              "...             ...                                                ...   \n",
              "2249693     2422167  Nike Women's As W Ny Df Swsh Hn Kh Bra (CZ7610...   \n",
              "2249694     2766635  (3PCS) Goose Game Cute Cartoon Enamel Pins, Fu...   \n",
              "2249695     1987786  Kangroo Sweep Movement Printed Wooden Wall Clo...   \n",
              "2249696     1165754  Electro Voice EKX-BRKT15 | Wall Mount Bracket ...   \n",
              "2249697     1072666  Skyjacker C7360SP Component Box For PN[C7360PK...   \n",
              "\n",
              "                                             BULLET_POINTS  \\\n",
              "0        [LUXURIOUS & APPEALING: Beautiful custom-made ...   \n",
              "1        [Harry Potter Hedwig Pyjamas (6-16 Yrs),100% c...   \n",
              "2        [Loud Dual Tone Trumpet Horn, Compatible With ...   \n",
              "3        [Made By 95%cotton and 5% Lycra which gives yo...   \n",
              "4                                                      NaN   \n",
              "...                                                    ...   \n",
              "2249693                               Material : Polyester   \n",
              "2249694  [❤ [Inspiration] Inspired by the Untitled Goos...   \n",
              "2249695  [Dial size: 12 inches in diameter,Big, clear r...   \n",
              "2249696                                                NaN   \n",
              "2249697  [Component Box For PN[C7360PK],4 in. Lift,Incl...   \n",
              "\n",
              "                                               DESCRIPTION  PRODUCT_TYPE_ID  \\\n",
              "0                                                      NaN             1650   \n",
              "1                                                      NaN             2755   \n",
              "2        Specifications: Color: Red, Material: Aluminiu...             7537   \n",
              "3        AISHAH Women's Lycra Cotton Ankel Leggings. Br...             2996   \n",
              "4                                                      NaN             6112   \n",
              "...                                                    ...              ...   \n",
              "2249693                                                NaN             3009   \n",
              "2249694  <p><b>[Brand]: </b>XVIEONR</p> <p><br></p> <p>...             3413   \n",
              "2249695  Wall Clocks Are Very Attractive In Looks And E...             1574   \n",
              "2249696                                                NaN              592   \n",
              "2249697  Skyjacker C7360SP Component Box For PN[C7360PK...             7367   \n",
              "\n",
              "         PRODUCT_LENGTH  \n",
              "0           2125.980000  \n",
              "1            393.700000  \n",
              "2            748.031495  \n",
              "3            787.401574  \n",
              "4            598.424000  \n",
              "...                 ...  \n",
              "2249693     1181.100000  \n",
              "2249694      125.984252  \n",
              "2249695     1200.000000  \n",
              "2249696     2900.000000  \n",
              "2249697     2000.000000  \n",
              "\n",
              "[2249698 rows x 6 columns]"
            ]
          },
          "execution_count": 4,
          "metadata": {},
          "output_type": "execute_result"
        }
      ],
      "source": [
        "df"
      ]
    },
    {
      "cell_type": "code",
      "execution_count": null,
      "metadata": {
        "id": "-0G2HFxcywRG",
        "outputId": "7930f939-b7c3-477b-ac34-1ff8c7fe107a"
      },
      "outputs": [
        {
          "data": {
            "text/html": [
              "<div>\n",
              "<style scoped>\n",
              "    .dataframe tbody tr th:only-of-type {\n",
              "        vertical-align: middle;\n",
              "    }\n",
              "\n",
              "    .dataframe tbody tr th {\n",
              "        vertical-align: top;\n",
              "    }\n",
              "\n",
              "    .dataframe thead th {\n",
              "        text-align: right;\n",
              "    }\n",
              "</style>\n",
              "<table border=\"1\" class=\"dataframe\">\n",
              "  <thead>\n",
              "    <tr style=\"text-align: right;\">\n",
              "      <th></th>\n",
              "      <th>PRODUCT_ID</th>\n",
              "      <th>PRODUCT_TYPE_ID</th>\n",
              "      <th>PRODUCT_LENGTH</th>\n",
              "    </tr>\n",
              "  </thead>\n",
              "  <tbody>\n",
              "    <tr>\n",
              "      <th>count</th>\n",
              "      <td>2.249698e+06</td>\n",
              "      <td>2.249698e+06</td>\n",
              "      <td>2.249698e+06</td>\n",
              "    </tr>\n",
              "    <tr>\n",
              "      <th>mean</th>\n",
              "      <td>1.499795e+06</td>\n",
              "      <td>4.000456e+03</td>\n",
              "      <td>4.071839e+03</td>\n",
              "    </tr>\n",
              "    <tr>\n",
              "      <th>std</th>\n",
              "      <td>8.661944e+05</td>\n",
              "      <td>3.966146e+03</td>\n",
              "      <td>1.351685e+06</td>\n",
              "    </tr>\n",
              "    <tr>\n",
              "      <th>min</th>\n",
              "      <td>1.000000e+00</td>\n",
              "      <td>0.000000e+00</td>\n",
              "      <td>1.000000e+00</td>\n",
              "    </tr>\n",
              "    <tr>\n",
              "      <th>25%</th>\n",
              "      <td>7.494795e+05</td>\n",
              "      <td>2.300000e+02</td>\n",
              "      <td>5.118110e+02</td>\n",
              "    </tr>\n",
              "    <tr>\n",
              "      <th>50%</th>\n",
              "      <td>1.499558e+06</td>\n",
              "      <td>2.916000e+03</td>\n",
              "      <td>6.630000e+02</td>\n",
              "    </tr>\n",
              "    <tr>\n",
              "      <th>75%</th>\n",
              "      <td>2.250664e+06</td>\n",
              "      <td>6.403000e+03</td>\n",
              "      <td>1.062992e+03</td>\n",
              "    </tr>\n",
              "    <tr>\n",
              "      <th>max</th>\n",
              "      <td>2.999999e+06</td>\n",
              "      <td>1.342000e+04</td>\n",
              "      <td>1.885801e+09</td>\n",
              "    </tr>\n",
              "  </tbody>\n",
              "</table>\n",
              "</div>"
            ],
            "text/plain": [
              "         PRODUCT_ID  PRODUCT_TYPE_ID  PRODUCT_LENGTH\n",
              "count  2.249698e+06     2.249698e+06    2.249698e+06\n",
              "mean   1.499795e+06     4.000456e+03    4.071839e+03\n",
              "std    8.661944e+05     3.966146e+03    1.351685e+06\n",
              "min    1.000000e+00     0.000000e+00    1.000000e+00\n",
              "25%    7.494795e+05     2.300000e+02    5.118110e+02\n",
              "50%    1.499558e+06     2.916000e+03    6.630000e+02\n",
              "75%    2.250664e+06     6.403000e+03    1.062992e+03\n",
              "max    2.999999e+06     1.342000e+04    1.885801e+09"
            ]
          },
          "execution_count": 5,
          "metadata": {},
          "output_type": "execute_result"
        }
      ],
      "source": [
        "df.describe()"
      ]
    },
    {
      "cell_type": "code",
      "execution_count": null,
      "metadata": {
        "id": "d8E-iS1LywRH",
        "outputId": "d26417a6-67ba-4f57-aa29-89aeeb780476"
      },
      "outputs": [
        {
          "data": {
            "text/plain": [
              "<AxesSubplot: xlabel='PRODUCT_LENGTH', ylabel='Count'>"
            ]
          },
          "execution_count": 6,
          "metadata": {},
          "output_type": "execute_result"
        },
        {
          "data": {
            "image/png": "[encoded data removed]",
            "text/plain": [
              "<Figure size 640x480 with 1 Axes>"
            ]
          },
          "metadata": {},
          "output_type": "display_data"
        }
      ],
      "source": [
        "sns.histplot(x=\"PRODUCT_LENGTH\",data=df.loc[df[\"PRODUCT_LENGTH\"]>1e8],bins=20)"
      ]
    },
    {
      "cell_type": "code",
      "execution_count": null,
      "metadata": {
        "id": "YXJpxYZgywRH",
        "outputId": "e0fc7359-05b2-4727-cb2d-e251dffea14b"
      },
      "outputs": [
        {
          "data": {
            "text/html": [
              "<div>\n",
              "<style scoped>\n",
              "    .dataframe tbody tr th:only-of-type {\n",
              "        vertical-align: middle;\n",
              "    }\n",
              "\n",
              "    .dataframe tbody tr th {\n",
              "        vertical-align: top;\n",
              "    }\n",
              "\n",
              "    .dataframe thead th {\n",
              "        text-align: right;\n",
              "    }\n",
              "</style>\n",
              "<table border=\"1\" class=\"dataframe\">\n",
              "  <thead>\n",
              "    <tr style=\"text-align: right;\">\n",
              "      <th></th>\n",
              "      <th>PRODUCT_ID</th>\n",
              "      <th>TITLE</th>\n",
              "      <th>BULLET_POINTS</th>\n",
              "      <th>DESCRIPTION</th>\n",
              "      <th>PRODUCT_TYPE_ID</th>\n",
              "      <th>PRODUCT_LENGTH</th>\n",
              "    </tr>\n",
              "  </thead>\n",
              "  <tbody>\n",
              "    <tr>\n",
              "      <th>134612</th>\n",
              "      <td>953114</td>\n",
              "      <td>May Arts Ribbon, Pink Burlap String</td>\n",
              "      <td>[Best Quality,May Arts,Original]</td>\n",
              "      <td>Burlap String 1mmX400yd-Pink</td>\n",
              "      <td>11191</td>\n",
              "      <td>1.440000e+08</td>\n",
              "    </tr>\n",
              "    <tr>\n",
              "      <th>238700</th>\n",
              "      <td>2263460</td>\n",
              "      <td>TOPBATHY 1 Set Ladle Colander Spoon Stainless ...</td>\n",
              "      <td>[gravy food fat separator They will bring you ...</td>\n",
              "      <td>&lt;b&gt; Features&lt;/b&gt;&lt;br/&gt;&lt;br/&gt; Color: Silver&lt;br/&gt; ...</td>\n",
              "      <td>11601</td>\n",
              "      <td>1.774080e+08</td>\n",
              "    </tr>\n",
              "    <tr>\n",
              "      <th>784310</th>\n",
              "      <td>1965723</td>\n",
              "      <td>Dinewell Wooden Pizza Plate/Racket/Bat/Board/G...</td>\n",
              "      <td>[BEAUTIFUL: Natural acacia wood is designed to...</td>\n",
              "      <td>Everybody has their own sense of style. Which ...</td>\n",
              "      <td>1393</td>\n",
              "      <td>2.249280e+08</td>\n",
              "    </tr>\n",
              "    <tr>\n",
              "      <th>888442</th>\n",
              "      <td>840563</td>\n",
              "      <td>WinCraft NCAA Ohio State University Multi-Use ...</td>\n",
              "      <td>[Officially licensed product,Quality materials...</td>\n",
              "      <td>Ohio State Ultra Decal Removable Vinyl Sticker...</td>\n",
              "      <td>6030</td>\n",
              "      <td>1.885801e+09</td>\n",
              "    </tr>\n",
              "    <tr>\n",
              "      <th>1082317</th>\n",
              "      <td>2746964</td>\n",
              "      <td>Shri Rajeshwar Medical Monisons Pain Balm, 100...</td>\n",
              "      <td>Ingredients: Pudinah Ka Phool, Wintergreen, Ni...</td>\n",
              "      <td>Monisons Pain Balm is an ointment made using h...</td>\n",
              "      <td>12069</td>\n",
              "      <td>3.937010e+08</td>\n",
              "    </tr>\n",
              "    <tr>\n",
              "      <th>1584254</th>\n",
              "      <td>2526801</td>\n",
              "      <td>Ranrox Combo Weight Lifting Rods(Curl Rod +Str...</td>\n",
              "      <td>[Benefits: Build and engage muscles in your ar...</td>\n",
              "      <td>Ranrox Weight Lifting Rod Chrome Plated Steel ...</td>\n",
              "      <td>4252</td>\n",
              "      <td>4.803152e+08</td>\n",
              "    </tr>\n",
              "  </tbody>\n",
              "</table>\n",
              "</div>"
            ],
            "text/plain": [
              "         PRODUCT_ID                                              TITLE  \\\n",
              "134612       953114                May Arts Ribbon, Pink Burlap String   \n",
              "238700      2263460  TOPBATHY 1 Set Ladle Colander Spoon Stainless ...   \n",
              "784310      1965723  Dinewell Wooden Pizza Plate/Racket/Bat/Board/G...   \n",
              "888442       840563  WinCraft NCAA Ohio State University Multi-Use ...   \n",
              "1082317     2746964  Shri Rajeshwar Medical Monisons Pain Balm, 100...   \n",
              "1584254     2526801  Ranrox Combo Weight Lifting Rods(Curl Rod +Str...   \n",
              "\n",
              "                                             BULLET_POINTS  \\\n",
              "134612                    [Best Quality,May Arts,Original]   \n",
              "238700   [gravy food fat separator They will bring you ...   \n",
              "784310   [BEAUTIFUL: Natural acacia wood is designed to...   \n",
              "888442   [Officially licensed product,Quality materials...   \n",
              "1082317  Ingredients: Pudinah Ka Phool, Wintergreen, Ni...   \n",
              "1584254  [Benefits: Build and engage muscles in your ar...   \n",
              "\n",
              "                                               DESCRIPTION  PRODUCT_TYPE_ID  \\\n",
              "134612                        Burlap String 1mmX400yd-Pink            11191   \n",
              "238700   <b> Features</b><br/><br/> Color: Silver<br/> ...            11601   \n",
              "784310   Everybody has their own sense of style. Which ...             1393   \n",
              "888442   Ohio State Ultra Decal Removable Vinyl Sticker...             6030   \n",
              "1082317  Monisons Pain Balm is an ointment made using h...            12069   \n",
              "1584254  Ranrox Weight Lifting Rod Chrome Plated Steel ...             4252   \n",
              "\n",
              "         PRODUCT_LENGTH  \n",
              "134612     1.440000e+08  \n",
              "238700     1.774080e+08  \n",
              "784310     2.249280e+08  \n",
              "888442     1.885801e+09  \n",
              "1082317    3.937010e+08  \n",
              "1584254    4.803152e+08  "
            ]
          },
          "execution_count": 7,
          "metadata": {},
          "output_type": "execute_result"
        }
      ],
      "source": [
        "df.loc[df[\"PRODUCT_LENGTH\"]>1e8]"
      ]
    },
    {
      "cell_type": "code",
      "execution_count": null,
      "metadata": {
        "id": "4mr4OeGVywRH",
        "outputId": "4b5f4c73-d562-46e3-e31e-05a3181753e1"
      },
      "outputs": [
        {
          "name": "stdout",
          "output_type": "stream",
          "text": [
            "3937.0080487545615\n",
            "3937.008011837909\n"
          ]
        }
      ],
      "source": [
        "# https://www.amazon.in/Dinewell-Wooden-Homemade-Platter-Restaurant/dp/B08HKB3841\n",
        "print(df.iloc[238700,5]/45061.63)\n",
        "# https://www.amazon.in/TOPBATHY-Colander-Stainless-Separator-Skimmer/dp/B094G57RS9\n",
        "print(df.iloc[784310,5]/57131.71)\n",
        "## Product Length is of Unit inch/100\n",
        "## 12 inch == 1200 in Product Length"
      ]
    },
    {
      "cell_type": "code",
      "execution_count": null,
      "metadata": {
        "id": "jNwp7x0DywRI",
        "outputId": "dcb6a5d7-6290-4089-fe79-84140e730c67"
      },
      "outputs": [
        {
          "data": {
            "text/plain": [
              "1        121199\n",
              "12064     57554\n",
              "0         50505\n",
              "123       31527\n",
              "6104      29690\n",
              "          ...  \n",
              "7239          1\n",
              "12536         1\n",
              "4114          1\n",
              "3229          1\n",
              "4505          1\n",
              "Name: PRODUCT_TYPE_ID, Length: 12907, dtype: int64"
            ]
          },
          "execution_count": 9,
          "metadata": {},
          "output_type": "execute_result"
        }
      ],
      "source": [
        "df[\"PRODUCT_TYPE_ID\"].value_counts()"
      ]
    },
    {
      "cell_type": "code",
      "execution_count": null,
      "metadata": {
        "id": "ZTe8rebOywRJ",
        "outputId": "225622ef-1c56-4c7c-c6e0-9932f276b273"
      },
      "outputs": [
        {
          "data": {
            "text/plain": [
              "<AxesSubplot: >"
            ]
          },
          "execution_count": 10,
          "metadata": {},
          "output_type": "execute_result"
        },
        {
          "data": {
            "image/png": "[encoded data removed]",
            "text/plain": [
              "<Figure size 640x480 with 2 Axes>"
            ]
          },
          "metadata": {},
          "output_type": "display_data"
        }
      ],
      "source": [
        "sns.heatmap(df[[\"PRODUCT_TYPE_ID\",\"PRODUCT_LENGTH\"]].corr())"
      ]
    },
    {
      "cell_type": "code",
      "execution_count": null,
      "metadata": {
        "id": "UXHmU2lZywRJ",
        "outputId": "b79f7068-6c1c-4db6-97c0-e2f2c29c53dd"
      },
      "outputs": [
        {
          "data": {
            "text/plain": [
              "PRODUCT_ID         0.000000\n",
              "TITLE              0.000005\n",
              "BULLET_POINTS      0.372212\n",
              "DESCRIPTION        0.514461\n",
              "PRODUCT_TYPE_ID    0.000000\n",
              "PRODUCT_LENGTH     0.000000\n",
              "dtype: float64"
            ]
          },
          "execution_count": 11,
          "metadata": {},
          "output_type": "execute_result"
        }
      ],
      "source": [
        "df.isnull().sum()/len(df)"
      ]
    },
    {
      "cell_type": "code",
      "execution_count": null,
      "metadata": {
        "id": "hmE5atLUywRK",
        "outputId": "3f4711c5-6406-4c0d-8fa0-986f75705a9a"
      },
      "outputs": [
        {
          "data": {
            "text/html": [
              "<div>\n",
              "<style scoped>\n",
              "    .dataframe tbody tr th:only-of-type {\n",
              "        vertical-align: middle;\n",
              "    }\n",
              "\n",
              "    .dataframe tbody tr th {\n",
              "        vertical-align: top;\n",
              "    }\n",
              "\n",
              "    .dataframe thead th {\n",
              "        text-align: right;\n",
              "    }\n",
              "</style>\n",
              "<table border=\"1\" class=\"dataframe\">\n",
              "  <thead>\n",
              "    <tr style=\"text-align: right;\">\n",
              "      <th></th>\n",
              "      <th>PRODUCT_ID</th>\n",
              "      <th>TITLE</th>\n",
              "      <th>BULLET_POINTS</th>\n",
              "      <th>DESCRIPTION</th>\n",
              "      <th>PRODUCT_TYPE_ID</th>\n",
              "      <th>PRODUCT_LENGTH</th>\n",
              "    </tr>\n",
              "  </thead>\n",
              "  <tbody>\n",
              "    <tr>\n",
              "      <th>1851</th>\n",
              "      <td>845789</td>\n",
              "      <td>Honey</td>\n",
              "      <td>NaN</td>\n",
              "      <td>NaN</td>\n",
              "      <td>837</td>\n",
              "      <td>574.000000</td>\n",
              "    </tr>\n",
              "    <tr>\n",
              "      <th>7572</th>\n",
              "      <td>60385</td>\n",
              "      <td>Dirty Magic</td>\n",
              "      <td>NaN</td>\n",
              "      <td>NaN</td>\n",
              "      <td>41</td>\n",
              "      <td>532.000000</td>\n",
              "    </tr>\n",
              "    <tr>\n",
              "      <th>9220</th>\n",
              "      <td>72091</td>\n",
              "      <td>Ceremony</td>\n",
              "      <td>NaN</td>\n",
              "      <td>NaN</td>\n",
              "      <td>103</td>\n",
              "      <td>700.000000</td>\n",
              "    </tr>\n",
              "    <tr>\n",
              "      <th>16751</th>\n",
              "      <td>2342585</td>\n",
              "      <td>180 KARRERA MOTOCROSS JERSEY</td>\n",
              "      <td>[Moisture-wicking fabric provides a soft, ligh...</td>\n",
              "      <td>NaN</td>\n",
              "      <td>8041</td>\n",
              "      <td>1200.000000</td>\n",
              "    </tr>\n",
              "    <tr>\n",
              "      <th>18312</th>\n",
              "      <td>2019285</td>\n",
              "      <td>Outdoor Patio Furniture Covers Waterproof Rect...</td>\n",
              "      <td>[Material: The furniture cover is made of high...</td>\n",
              "      <td>Note: The coverage depends on the size of the ...</td>\n",
              "      <td>5600</td>\n",
              "      <td>9448.818888</td>\n",
              "    </tr>\n",
              "    <tr>\n",
              "      <th>...</th>\n",
              "      <td>...</td>\n",
              "      <td>...</td>\n",
              "      <td>...</td>\n",
              "      <td>...</td>\n",
              "      <td>...</td>\n",
              "      <td>...</td>\n",
              "    </tr>\n",
              "    <tr>\n",
              "      <th>2249532</th>\n",
              "      <td>477318</td>\n",
              "      <td>The German Shepherd Big Book: All About the Ge...</td>\n",
              "      <td>NaN</td>\n",
              "      <td>NaN</td>\n",
              "      <td>83</td>\n",
              "      <td>600.000000</td>\n",
              "    </tr>\n",
              "    <tr>\n",
              "      <th>2249551</th>\n",
              "      <td>2761482</td>\n",
              "      <td>Yaiewey Long Cardigans for Women, Womens Light...</td>\n",
              "      <td>[winter coats for women trench coats for women...</td>\n",
              "      <td>pullover womens hoodies plus size hoodies for ...</td>\n",
              "      <td>2991</td>\n",
              "      <td>590.551180</td>\n",
              "    </tr>\n",
              "    <tr>\n",
              "      <th>2249600</th>\n",
              "      <td>1346248</td>\n",
              "      <td>Morning Song</td>\n",
              "      <td>NaN</td>\n",
              "      <td>NaN</td>\n",
              "      <td>7</td>\n",
              "      <td>551.180000</td>\n",
              "    </tr>\n",
              "    <tr>\n",
              "      <th>2249648</th>\n",
              "      <td>586218</td>\n",
              "      <td>God's Hand Upon My Life</td>\n",
              "      <td>NaN</td>\n",
              "      <td>NaN</td>\n",
              "      <td>10507</td>\n",
              "      <td>700.000000</td>\n",
              "    </tr>\n",
              "    <tr>\n",
              "      <th>2249678</th>\n",
              "      <td>2128588</td>\n",
              "      <td>Back Cover for Meizu C9, Meizu C9 Pro</td>\n",
              "      <td>[Slim Fitting One-Piece Clip-On-Case,Silicon C...</td>\n",
              "      <td>Designer Back Case For Meizu C9, Meizu C9 Pro,...</td>\n",
              "      <td>12064</td>\n",
              "      <td>393.700787</td>\n",
              "    </tr>\n",
              "  </tbody>\n",
              "</table>\n",
              "<p>32255 rows × 6 columns</p>\n",
              "</div>"
            ],
            "text/plain": [
              "         PRODUCT_ID                                              TITLE  \\\n",
              "1851         845789                                              Honey   \n",
              "7572          60385                                        Dirty Magic   \n",
              "9220          72091                                           Ceremony   \n",
              "16751       2342585                       180 KARRERA MOTOCROSS JERSEY   \n",
              "18312       2019285  Outdoor Patio Furniture Covers Waterproof Rect...   \n",
              "...             ...                                                ...   \n",
              "2249532      477318  The German Shepherd Big Book: All About the Ge...   \n",
              "2249551     2761482  Yaiewey Long Cardigans for Women, Womens Light...   \n",
              "2249600     1346248                                       Morning Song   \n",
              "2249648      586218                            God's Hand Upon My Life   \n",
              "2249678     2128588              Back Cover for Meizu C9, Meizu C9 Pro   \n",
              "\n",
              "                                             BULLET_POINTS  \\\n",
              "1851                                                   NaN   \n",
              "7572                                                   NaN   \n",
              "9220                                                   NaN   \n",
              "16751    [Moisture-wicking fabric provides a soft, ligh...   \n",
              "18312    [Material: The furniture cover is made of high...   \n",
              "...                                                    ...   \n",
              "2249532                                                NaN   \n",
              "2249551  [winter coats for women trench coats for women...   \n",
              "2249600                                                NaN   \n",
              "2249648                                                NaN   \n",
              "2249678  [Slim Fitting One-Piece Clip-On-Case,Silicon C...   \n",
              "\n",
              "                                               DESCRIPTION  PRODUCT_TYPE_ID  \\\n",
              "1851                                                   NaN              837   \n",
              "7572                                                   NaN               41   \n",
              "9220                                                   NaN              103   \n",
              "16751                                                  NaN             8041   \n",
              "18312    Note: The coverage depends on the size of the ...             5600   \n",
              "...                                                    ...              ...   \n",
              "2249532                                                NaN               83   \n",
              "2249551  pullover womens hoodies plus size hoodies for ...             2991   \n",
              "2249600                                                NaN                7   \n",
              "2249648                                                NaN            10507   \n",
              "2249678  Designer Back Case For Meizu C9, Meizu C9 Pro,...            12064   \n",
              "\n",
              "         PRODUCT_LENGTH  \n",
              "1851         574.000000  \n",
              "7572         532.000000  \n",
              "9220         700.000000  \n",
              "16751       1200.000000  \n",
              "18312       9448.818888  \n",
              "...                 ...  \n",
              "2249532      600.000000  \n",
              "2249551      590.551180  \n",
              "2249600      551.180000  \n",
              "2249648      700.000000  \n",
              "2249678      393.700787  \n",
              "\n",
              "[32255 rows x 6 columns]"
            ]
          },
          "metadata": {},
          "output_type": "display_data"
        },
        {
          "name": "stdout",
          "output_type": "stream",
          "text": [
            "0.014337479963977388\n"
          ]
        }
      ],
      "source": [
        "duplicates = df.duplicated(subset=['TITLE', 'BULLET_POINTS','DESCRIPTION'])\n",
        "display(df[duplicates])\n",
        "print(df[duplicates].shape[0]/len(df))"
      ]
    },
    {
      "cell_type": "code",
      "execution_count": null,
      "metadata": {
        "id": "Haz3Kc-RywRK"
      },
      "outputs": [],
      "source": [
        "#Duplicates and Null Value Removal\n",
        "df = df.drop_duplicates(subset=['TITLE', 'BULLET_POINTS', 'DESCRIPTION'])\n",
        "df = df.dropna(subset=['TITLE'])"
      ]
    },
    {
      "cell_type": "code",
      "execution_count": null,
      "metadata": {
        "id": "g5y4CFRvywRL"
      },
      "outputs": [],
      "source": [
        "def lemmatizer_on_text(data):\n",
        "    lm = nltk.WordNetLemmatizer()\n",
        "    text = [lm.lemmatize(word) for word in data]\n",
        "    return convert_to_lower(text)\n",
        "def stem_on_text(data):\n",
        "    st = nltk.PorterStemmer()\n",
        "    text = [st.stem(word) for word in data]\n",
        "    return lemmatizer_on_text(text)\n",
        "def convert_to_lower(text):\n",
        "    # return the reviews after convering then to lowercase\n",
        "    # Words with different cases are intercepted differently such as 'The' and 'the'. \n",
        "    # Hence all words should be converted into same case, preferably lower case.\n",
        "    l = []\n",
        "    for t in text:\n",
        "        l.append(t.lower())\n",
        "    return remove_digits(l)\n",
        "\n",
        "def remove_digits(text):\n",
        "    l = []\n",
        "    for t in text:\n",
        "        # t=TreebankWordDetokenizer().detokenize(t)\n",
        "        t= re.sub(r'[0-9]','',t)\n",
        "        l.append(t)\n",
        "    return remove_punctuation(l)\n",
        "\n",
        "def remove_punctuation(text):\n",
        "    # return the reviews after removing punctuations\n",
        "    # Refer: https://www3.ntu.edu.sg/home/ehchua/programming/howto/Regexe.html\n",
        "    l = []\n",
        "    # \\w : word character\n",
        "    # \\W : non-word character\n",
        "    # \\d : digits\n",
        "    # \\D : non-digits\n",
        "    \n",
        "    # for t in text:\n",
        "    #     l.append(re.sub(r'[^\\w\\s\\d]|^\\s\\d+\\s|\\s\\d+|\\d+|\\s\\d+$', ' ', t)) #|^\\s\\d+\\s|\\s\\d+|\\d+|\\s\\d+$\n",
        "    for t in text:\n",
        "        # t = re.sub(r'(\\d)(?=[^\\s\\d.]|$)', r'\\1 ', t)\n",
        "        # punctuation = '''!\"#$%&'()*+,-/:;<=>?@[\\\\]^_`{|}~'''\n",
        "        # punctuation = punctuation.replace('.', '')\n",
        "        t = t.translate(str.maketrans('', '', string.punctuation))\n",
        "        l.append(t)\n",
        "    return remove_stopwords(l)\n",
        "\n",
        "def remove_stopwords(text):\n",
        "    l = []\n",
        "    large = 0\n",
        "    for t in text:\n",
        "        word_tokens = token.word_tokenize(t)\n",
        "        filtered_sentence = [w for w in word_tokens if not w in stop_words]\n",
        "        l.append(TreebankWordDetokenizer().detokenize(filtered_sentence))\n",
        "    return l\n",
        "\n",
        "def remove_URLs(text):\n",
        "    l = []\n",
        "    for t in text:\n",
        "        t  = re.sub(r\"https?://\\S+|www\\.\\S+\", \"\", t )\n",
        "        l.append(t)\n",
        "    return l"
      ]
    },
    {
      "cell_type": "code",
      "execution_count": null,
      "metadata": {
        "id": "lrhrQORKywRM"
      },
      "outputs": [],
      "source": [
        "x = lemmatizer_on_text(df[\"TITLE\"])"
      ]
    },
    {
      "cell_type": "code",
      "execution_count": null,
      "metadata": {
        "id": "RFybxMXaywRM"
      },
      "outputs": [],
      "source": [
        "def tokenize(text):\n",
        "    l = []\n",
        "    for t in text:\n",
        "        t = TreebankWordTokenizer().tokenize(t)\n",
        "        l.append(t)\n",
        "    return l"
      ]
    },
    {
      "cell_type": "code",
      "execution_count": null,
      "metadata": {
        "id": "SDF9h38yywRN"
      },
      "outputs": [],
      "source": [
        "x = tokenize(x)"
      ]
    },
    {
      "cell_type": "code",
      "execution_count": null,
      "metadata": {
        "id": "_5UFxNZsywRN"
      },
      "outputs": [],
      "source": [
        "from keras.preprocessing.text import Tokenizer"
      ]
    },
    {
      "cell_type": "code",
      "execution_count": null,
      "metadata": {
        "id": "TEb3J61XywRN"
      },
      "outputs": [],
      "source": [
        "word_tokenizer = Tokenizer()                      # instantiate tokeniser\n",
        "word_tokenizer.fit_on_texts(x)                    # fit tokeniser on data\n",
        "X_encoded = word_tokenizer.texts_to_sequences(x)"
      ]
    },
    {
      "cell_type": "code",
      "execution_count": null,
      "metadata": {
        "id": "-BPRVmv8ywRN"
      },
      "outputs": [],
      "source": [
        "MAX_SEQ_LENGTH = 30\n",
        "X_padded = pad_sequences(X_encoded, maxlen=MAX_SEQ_LENGTH, padding=\"post\", truncating=\"post\")"
      ]
    },
    {
      "cell_type": "code",
      "execution_count": null,
      "metadata": {
        "id": "BZ2deJWYywRO",
        "outputId": "0481ff78-a5b4-4a3c-ded0-33fdfe3b570a"
      },
      "outputs": [
        {
          "data": {
            "text/plain": [
              "array([[  1189,   4586,    407, ...,      0,      0,      0],\n",
              "       [  2496,   2652,     19, ...,      0,      0,      0],\n",
              "       [  5445,   2305,     21, ...,      0,      0,      0],\n",
              "       ...,\n",
              "       [130420,   8262,   2794, ...,      0,      0,      0],\n",
              "       [ 10031,   2410, 838654, ...,      0,      0,      0],\n",
              "       [ 23832,  31866,   7408, ...,      0,      0,      0]])"
            ]
          },
          "execution_count": 193,
          "metadata": {},
          "output_type": "execute_result"
        }
      ],
      "source": [
        "X_padded"
      ]
    },
    {
      "cell_type": "code",
      "execution_count": null,
      "metadata": {
        "id": "86zGhi5VywRO"
      },
      "outputs": [],
      "source": [
        "from gensim.models import KeyedVectors"
      ]
    },
    {
      "cell_type": "code",
      "execution_count": null,
      "metadata": {
        "id": "uclqSmlCywRO"
      },
      "outputs": [],
      "source": [
        "path = 'GoogleNews-vectors-negative300.bin'\n",
        "\n",
        "\n",
        "# load word2vec using the following function present in the gensim library\n",
        "word2vec = KeyedVectors.load_word2vec_format(path, binary=True)"
      ]
    },
    {
      "cell_type": "code",
      "execution_count": null,
      "metadata": {
        "id": "pWh4lolKywRP"
      },
      "outputs": [],
      "source": [
        "EMBEDDING_SIZE  = 300  # each word in word2vec model is represented using a 300 dimensional vector\n",
        "VOCABULARY_SIZE = len(word_tokenizer.word_index) + 1\n",
        "\n",
        "# create an empty embedding matix\n",
        "embedding_weights = np.zeros((VOCABULARY_SIZE, EMBEDDING_SIZE))\n",
        "\n",
        "# create a word to index dictionary mapping\n",
        "word2id = word_tokenizer.word_index\n",
        "\n",
        "# copy vectors from word2vec model to the words present in corpus\n",
        "for word, index in word2id.items():\n",
        "    try:\n",
        "        embedding_weights[index, :] = word2vec[word]\n",
        "    except KeyError:\n",
        "        pass"
      ]
    },
    {
      "cell_type": "code",
      "execution_count": null,
      "metadata": {
        "id": "g_fsu5mLywRQ"
      },
      "outputs": [],
      "source": []
    }
  ],
  "metadata": {
    "kernelspec": {
      "display_name": "Python 3",
      "language": "python",
      "name": "python3"
    },
    "language_info": {
      "codemirror_mode": {
        "name": "ipython",
        "version": 3
      },
      "file_extension": ".py",
      "mimetype": "text/x-python",
      "name": "python",
      "nbconvert_exporter": "python",
      "pygments_lexer": "ipython3",
      "version": "3.9.0"
    },
    "orig_nbformat": 4,
    "colab": {
      "provenance": []
    }
  },
  "nbformat": 4,
  "nbformat_minor": 0
}